{
 "cells": [
  {
   "cell_type": "code",
   "execution_count": 1,
   "metadata": {},
   "outputs": [
    {
     "name": "stderr",
     "output_type": "stream",
     "text": [
      "<>:19: SyntaxWarning: invalid escape sequence '\\('\n",
      "<>:19: SyntaxWarning: invalid escape sequence '\\('\n",
      "C:\\Users\\Satgonda\\AppData\\Local\\Temp\\ipykernel_7652\\523405281.py:19: SyntaxWarning: invalid escape sequence '\\('\n",
      "  r = re.compile('[\\(\\[].*?[\\)\\]]')\n"
     ]
    }
   ],
   "source": [
    "import requests\n",
    "\n",
    "def telegram_bot_sendtext(bot_message):\n",
    "    \n",
    "    bot_token = '1022661921:AAFSCX73U3iNoRlNTVKbM5RumEuu4pQQ8lY'\n",
    "#     bot_chatID = '1070670361'\n",
    "    bot_chatID = '@EducasJOBS'\n",
    "    send_text = 'https://api.telegram.org/bot' + bot_token + '/sendMessage?chat_id=' + bot_chatID + '&parse_mode=Markdown&text=' + bot_message\n",
    "\n",
    "    response = requests.get(send_text)\n",
    "\n",
    "    return response.json()\n",
    "#removing Remove text between () and [] in python\n",
    "\n",
    "\n",
    "import re\n",
    "def strip_character(dataCol):\n",
    "    \n",
    "    r = re.compile('[\\(\\[].*?[\\)\\]]')\n",
    "\n",
    "    \n",
    "    return r.sub('', dataCol)"
   ]
  },
  {
   "cell_type": "code",
   "execution_count": 2,
   "metadata": {},
   "outputs": [
    {
     "name": "stdout",
     "output_type": "stream",
     "text": [
      "2024-07-14 14:16:10.889564\n"
     ]
    },
    {
     "name": "stderr",
     "output_type": "stream",
     "text": [
      "C:\\Users\\Satgonda\\AppData\\Local\\Temp\\ipykernel_7652\\2187749488.py:12: FutureWarning: DataFrame.applymap has been deprecated. Use DataFrame.map instead.\n",
      "  x = x.applymap(lambda x: x.strip())\n",
      "C:\\Users\\Satgonda\\AppData\\Local\\Temp\\ipykernel_7652\\2187749488.py:13: UserWarning: Could not infer format, so each element will be parsed individually, falling back to `dateutil`. To ensure parsing is consistent and as-expected, please specify a format.\n",
      "  x['ApplyBy']=pd.to_datetime(x['ApplyBy']).map(lambda x: x.strftime('%d-%m-%Y'))\n",
      "C:\\Users\\Satgonda\\AppData\\Local\\Temp\\ipykernel_7652\\2187749488.py:19: FutureWarning: DataFrame.applymap has been deprecated. Use DataFrame.map instead.\n",
      "  x = x.applymap(lambda x: str(x).strip())\n"
     ]
    },
    {
     "name": "stdout",
     "output_type": "stream",
     "text": [
      "message sent for Index 0 2024-07-14 14:16:21.927256\n",
      "message sent for Index 1 2024-07-14 14:16:32.912257\n",
      "message sent for Index 2 2024-07-14 14:16:44.328920\n",
      "message sent for Index 3 2024-07-14 14:16:55.595916\n",
      "message sent for Index 4 2024-07-14 14:17:06.695635\n",
      "message sent for Index 5 2024-07-14 14:17:17.695960\n",
      "Resetting Index = 5\n"
     ]
    },
    {
     "name": "stderr",
     "output_type": "stream",
     "text": [
      "C:\\Users\\Satgonda\\AppData\\Local\\Temp\\ipykernel_7652\\2187749488.py:12: FutureWarning: DataFrame.applymap has been deprecated. Use DataFrame.map instead.\n",
      "  x = x.applymap(lambda x: x.strip())\n",
      "C:\\Users\\Satgonda\\AppData\\Local\\Temp\\ipykernel_7652\\2187749488.py:13: UserWarning: Could not infer format, so each element will be parsed individually, falling back to `dateutil`. To ensure parsing is consistent and as-expected, please specify a format.\n",
      "  x['ApplyBy']=pd.to_datetime(x['ApplyBy']).map(lambda x: x.strftime('%d-%m-%Y'))\n",
      "C:\\Users\\Satgonda\\AppData\\Local\\Temp\\ipykernel_7652\\2187749488.py:19: FutureWarning: DataFrame.applymap has been deprecated. Use DataFrame.map instead.\n",
      "  x = x.applymap(lambda x: str(x).strip())\n"
     ]
    },
    {
     "name": "stdout",
     "output_type": "stream",
     "text": [
      "message sent for Index 5 2024-07-14 14:17:28.786493\n",
      "message sent for Index 6 2024-07-14 14:17:40.008990\n"
     ]
    }
   ],
   "source": [
    "import pandas as pd\n",
    "import time\n",
    "import datetime\n",
    "from IPython.display import Markdown, display\n",
    "ind=0\n",
    "print(datetime.datetime.now())\n",
    "while 1:    \n",
    "    df = pd.read_csv('data/job_details.csv')\n",
    "    df = df.dropna()\n",
    "    df.About_Work = df.About_Work.str.replace(r'Selected interns day-to-day responsibilities include:','').str.replace('Only those','')\n",
    "    x=df\n",
    "    x = x.applymap(lambda x: x.strip())\n",
    "    x['ApplyBy']=pd.to_datetime(x['ApplyBy']).map(lambda x: x.strftime('%d-%m-%Y'))\n",
    "    x=x.sort_values('ApplyBy',ascending=False)\n",
    "    x=x.reset_index(drop=True)\n",
    "\n",
    "\n",
    "    x.Skills = x.Skills.apply(strip_character)\n",
    "    x = x.applymap(lambda x: str(x).strip())\n",
    "    y=x.iloc[ind:ind+6]\n",
    "    for index, row in y.iterrows():\n",
    "            JobTItle            =  row['JobTItle']\n",
    "            Company             =  row['Company']\n",
    "            URL                 =  row['Url']\n",
    "            StartDate           =  row['StartDate']\n",
    "            Duration            =  row['Duration']\n",
    "            Stipend             =  row['Stipend']\n",
    "            ApplyBy             =  row['ApplyBy']\n",
    "            About_Company       =  row['About_Company']\n",
    "            About_Work          =  row['About_Work']\n",
    "            Skills              =  row['Skills']\n",
    "            class color:\n",
    "                BOLD = '\\033[1m'\n",
    "                END = '\\033[0m'\n",
    "            time.sleep(10)\n",
    "            telegram_bot_sendtext(\"\\n\" +\"*JobTitle :*\" + \"  \"+str(JobTItle) + \"\\n\" + \"*Company :*\" + \"  \"+str(Company) + \"\\n\" + \"*Url :*\" + \"  \"+str(URL)+ \"\\n\"+\"*StartDate :*\" + \"  \"+str(StartDate) + \"\\n\" + \"*Duration :*\" + \"  \"+str(Duration)+ \"\\n\" +  \"*Stipend :*\" + \"  \"+str(Stipend) + \"\\n\" + \"*ApplyBy :*\" + \"  \"+str(ApplyBy) + \"\\n\" + \"*Skills :*\" + \"  \"+str(Skills)+ \"\\n\"+\"\\n\"+\"*For More Updates*: [Register here](https://forms.gle/ayhd1WyafUKijJm79) \"+\"\\n\"+\" \")   \n",
    "            print(\"message sent for Index \" + str(index)+ \" \" + str(datetime.datetime.now()))\n",
    "    ind=y.index[-1]\n",
    "    print(\"Resetting Index = \"+ str(ind))"
   ]
  },
  {
   "cell_type": "code",
   "execution_count": null,
   "metadata": {},
   "outputs": [],
   "source": []
  }
 ],
 "metadata": {
  "kernelspec": {
   "display_name": "Python 3 (ipykernel)",
   "language": "python",
   "name": "python3"
  },
  "language_info": {
   "codemirror_mode": {
    "name": "ipython",
    "version": 3
   },
   "file_extension": ".py",
   "mimetype": "text/x-python",
   "name": "python",
   "nbconvert_exporter": "python",
   "pygments_lexer": "ipython3",
   "version": "3.12.4"
  },
  "vscode": {
   "interpreter": {
    "hash": "916dbcbb3f70747c44a77c7bcd40155683ae19c65e1c03b4aa3499c5328201f1"
   }
  }
 },
 "nbformat": 4,
 "nbformat_minor": 4
}
